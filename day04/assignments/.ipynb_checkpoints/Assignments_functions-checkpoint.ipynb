{
 "cells": [
  {
   "cell_type": "markdown",
   "metadata": {},
   "source": [
    "## Functions exercises "
   ]
  },
  {
   "cell_type": "markdown",
   "metadata": {},
   "source": [
    "### Exercise 1:\n",
    "\n",
    "1- Create a function `compute_power(x,y)` which return $x^y$ using the `**` operator.\n",
    "\n",
    "- Desired output:\n",
    "```Python\n",
    ">>> 2**2\n",
    "4\n",
    ">>> 2**3\n",
    "8\n",
    ">>> 2**4\n",
    "16\n",
    "```\n",
    "\n",
    "2- Compute the $2^i$ (i=0,...,20)."
   ]
  },
  {
   "cell_type": "code",
   "execution_count": 1,
   "metadata": {},
   "outputs": [
    {
     "name": "stdout",
     "output_type": "stream",
     "text": [
      "4 8 16\n",
      "1\n",
      "2\n",
      "4\n",
      "8\n",
      "16\n",
      "32\n",
      "64\n",
      "128\n",
      "256\n",
      "512\n",
      "1024\n",
      "2048\n",
      "4096\n",
      "8192\n",
      "16384\n",
      "32768\n",
      "65536\n",
      "131072\n",
      "262144\n",
      "524288\n",
      "1048576\n"
     ]
    }
   ],
   "source": [
    "def compute_power(x,y):\n",
    "    z=x**y\n",
    "    return z\n",
    "s= compute_power(2,2)\n",
    "e=compute_power(2,3)\n",
    "m=compute_power(2,4)\n",
    "print(s,e,m)\n",
    "for i in range (21):\n",
    "    def compute_i(x=2,y=i):\n",
    "        z=x**i\n",
    "        return z\n",
    "    print(compute_i(x=2,y=i))\n",
    "    "
   ]
  },
  {
   "cell_type": "markdown",
   "metadata": {},
   "source": [
    "### Exercise 2:\n",
    "\n",
    "1- Create a function that draw a pyramid with N rows (N given by the user), as below:\n",
    "\n",
    "- Desired output:\n",
    "```Python\n",
    "          *\n",
    "         ***\n",
    "        *****\n",
    "       *******\n",
    "      *********\n",
    "     ***********\n",
    "    *************\n",
    "   ***************\n",
    "  *****************\n",
    "```"
   ]
  },
  {
   "cell_type": "code",
   "execution_count": 4,
   "metadata": {},
   "outputs": [
    {
     "name": "stdout",
     "output_type": "stream",
     "text": [
      "enter number of rows:7\n",
      "      *\n",
      "     ***\n",
      "    *****\n",
      "   *******\n",
      "  *********\n",
      " ***********\n",
      "*************\n"
     ]
    }
   ],
   "source": [
    "def pyramide(N):\n",
    "    for i in range(0,N):\n",
    "        print(' '*(N-i-1)+\"*\"*(2*i+1))\n",
    "N=int(input(\"enter number of rows:\"))\n",
    "pyramide(N)\n",
    "    \n",
    "        \n",
    "        \n",
    "        \n",
    "        \n",
    "    "
   ]
  },
  {
   "cell_type": "markdown",
   "metadata": {},
   "source": [
    "### Exercise 3:\n",
    "\n",
    "1- Create a function `compute_3D_distance()` which calculate the euclidean distance in 3D between two atoms.\n",
    "\n",
    "2- Test the function using the two vertices $A(0,0,0)$ et $B(1,1,1)$. Do you find $\\sqrt 3$ ?\n",
    "\n",
    "- The euclidean distance between two vertices $A(x_A,y_A,z_A)$ and $A(x_B,y_B,z_B)$ is: $\\sqrt{ \\left( x_B - x_A \\right)^{2} +  \\left( y_B - y_A \\right)^{2} +  \\left( z_B - z_A \\right)^{2}}$\n"
   ]
  },
  {
   "cell_type": "code",
   "execution_count": 10,
   "metadata": {},
   "outputs": [
    {
     "name": "stdout",
     "output_type": "stream",
     "text": [
      "enter x10\n",
      "enter y10\n",
      "enter z10\n",
      "enter x21\n",
      "enter y21\n",
      "enter z21\n",
      "1.7320508075688772\n"
     ]
    }
   ],
   "source": [
    "import math\n",
    "def compute_3D_distance(x1,y1,z1,x2,y2,z2):\n",
    "    distance=math.sqrt((pow(x2-x1,2))+(pow(y2-y1,2))+(pow(z2-z1,2)))\n",
    "    print(distance)\n",
    "x1=int(input (\"enter x1\"))\n",
    "y1=int(input (\"enter y1\"))\n",
    "z1=int(input (\"enter z1\"))\n",
    "x2=int(input (\"enter x2\"))\n",
    "y2=int(input (\"enter y2\"))\n",
    "z2=int(input (\"enter z2\"))\n",
    "\n",
    "compute_3D_distance(x1,y1,z1,x2,y2,z2)"
   ]
  },
  {
   "cell_type": "markdown",
   "metadata": {},
   "source": [
    "### Exercise 4:\n",
    "\n",
    "1- Write a function `x(n)` for computing an element in the sequence $x_n=n^2+1$. \n",
    "\n",
    "2- Call the function for $n=4$ and write out the result.\n"
   ]
  },
  {
   "cell_type": "code",
   "execution_count": 13,
   "metadata": {},
   "outputs": [
    {
     "name": "stdout",
     "output_type": "stream",
     "text": [
      "1 17\n"
     ]
    }
   ],
   "source": [
    "def computing(n):\n",
    "    return n**2+1\n",
    "x=computing(0)\n",
    "y=computing(4)\n",
    "print(x,y)"
   ]
  },
  {
   "cell_type": "markdown",
   "metadata": {},
   "source": [
    "### Exercise 5:\n",
    "\n",
    "1- Write a Python function that evaluates the mathematical functions $f(x)=cos(2x)$, $f^\\prime(x)=-2sin(2x)$, and $f\\prime\\prime(x)=-4cos(2x)$. \n",
    "\n",
    "2- Return these three values. Write out the results of these values for $x=\\pi$\n",
    "\n",
    "\n"
   ]
  },
  {
   "cell_type": "code",
   "execution_count": 16,
   "metadata": {},
   "outputs": [
    {
     "name": "stdout",
     "output_type": "stream",
     "text": [
      "1.0 4.898587196589413e-16 -4.0\n"
     ]
    }
   ],
   "source": [
    "from math import cos ,sin , pi\n",
    "def derive(x):\n",
    "    return cos(2*x),-2*sin(2*x) ,-4*cos(2*x)\n",
    "a,b,c=derive(pi)\n",
    "print(a,b,c)"
   ]
  },
  {
   "cell_type": "markdown",
   "metadata": {},
   "source": [
    "### Exercise 6:\n",
    "\n",
    "1- Write python function to solve $ax^2+bx+c=0$.  (a, b, c are given by the user).\n",
    "\n"
   ]
  },
  {
   "cell_type": "code",
   "execution_count": 26,
   "metadata": {},
   "outputs": [
    {
     "name": "stdout",
     "output_type": "stream",
     "text": [
      "enter a:7\n",
      "enter b:5\n",
      "enter c:0\n",
      "les deux  solutions sont: -0.16816062063824352 -0.5461250936474707\n"
     ]
    },
    {
     "ename": "UnboundLocalError",
     "evalue": "local variable 'r' referenced before assignment",
     "output_type": "error",
     "traceback": [
      "\u001b[0;31m---------------------------------------------------------------------------\u001b[0m",
      "\u001b[0;31mUnboundLocalError\u001b[0m                         Traceback (most recent call last)",
      "\u001b[0;32m/tmp/ipykernel_12408/1530069806.py\u001b[0m in \u001b[0;36m<module>\u001b[0;34m\u001b[0m\n\u001b[1;32m     19\u001b[0m \u001b[0mb\u001b[0m\u001b[0;34m=\u001b[0m\u001b[0mint\u001b[0m \u001b[0;34m(\u001b[0m\u001b[0minput\u001b[0m \u001b[0;34m(\u001b[0m\u001b[0;34m\"enter b:\"\u001b[0m\u001b[0;34m)\u001b[0m\u001b[0;34m)\u001b[0m\u001b[0;34m\u001b[0m\u001b[0;34m\u001b[0m\u001b[0m\n\u001b[1;32m     20\u001b[0m \u001b[0mc\u001b[0m\u001b[0;34m=\u001b[0m\u001b[0mint\u001b[0m \u001b[0;34m(\u001b[0m\u001b[0minput\u001b[0m \u001b[0;34m(\u001b[0m\u001b[0;34m\"enter c:\"\u001b[0m\u001b[0;34m)\u001b[0m\u001b[0;34m)\u001b[0m\u001b[0;34m\u001b[0m\u001b[0;34m\u001b[0m\u001b[0m\n\u001b[0;32m---> 21\u001b[0;31m \u001b[0msolve\u001b[0m\u001b[0;34m(\u001b[0m\u001b[0ma\u001b[0m\u001b[0;34m,\u001b[0m\u001b[0mb\u001b[0m\u001b[0;34m,\u001b[0m\u001b[0mc\u001b[0m\u001b[0;34m)\u001b[0m\u001b[0;34m\u001b[0m\u001b[0;34m\u001b[0m\u001b[0m\n\u001b[0m\u001b[1;32m     22\u001b[0m \u001b[0;34m\u001b[0m\u001b[0m\n\u001b[1;32m     23\u001b[0m \u001b[0;34m\u001b[0m\u001b[0m\n",
      "\u001b[0;32m/tmp/ipykernel_12408/1530069806.py\u001b[0m in \u001b[0;36msolve\u001b[0;34m(a, b, c)\u001b[0m\n\u001b[1;32m     15\u001b[0m         \u001b[0mr\u001b[0m\u001b[0;34m=\u001b[0m\u001b[0;34m(\u001b[0m\u001b[0;34m-\u001b[0m\u001b[0mc\u001b[0m\u001b[0;34m)\u001b[0m\u001b[0;34m/\u001b[0m\u001b[0mb\u001b[0m\u001b[0;34m\u001b[0m\u001b[0;34m\u001b[0m\u001b[0m\n\u001b[1;32m     16\u001b[0m         \u001b[0mprint\u001b[0m \u001b[0;34m(\u001b[0m\u001b[0;34m\"the solution is:\"\u001b[0m\u001b[0;34m,\u001b[0m\u001b[0mr\u001b[0m\u001b[0;34m)\u001b[0m\u001b[0;34m\u001b[0m\u001b[0;34m\u001b[0m\u001b[0m\n\u001b[0;32m---> 17\u001b[0;31m     \u001b[0;32mreturn\u001b[0m\u001b[0;34m(\u001b[0m\u001b[0mb\u001b[0m\u001b[0;34m,\u001b[0m\u001b[0mm\u001b[0m\u001b[0;34m,\u001b[0m\u001b[0mn\u001b[0m\u001b[0;34m,\u001b[0m\u001b[0mr\u001b[0m\u001b[0;34m)\u001b[0m\u001b[0;34m\u001b[0m\u001b[0;34m\u001b[0m\u001b[0m\n\u001b[0m\u001b[1;32m     18\u001b[0m \u001b[0ma\u001b[0m\u001b[0;34m=\u001b[0m\u001b[0mint\u001b[0m \u001b[0;34m(\u001b[0m\u001b[0minput\u001b[0m\u001b[0;34m(\u001b[0m\u001b[0;34m\"enter a:\"\u001b[0m\u001b[0;34m)\u001b[0m\u001b[0;34m)\u001b[0m\u001b[0;34m\u001b[0m\u001b[0;34m\u001b[0m\u001b[0m\n\u001b[1;32m     19\u001b[0m \u001b[0mb\u001b[0m\u001b[0;34m=\u001b[0m\u001b[0mint\u001b[0m \u001b[0;34m(\u001b[0m\u001b[0minput\u001b[0m \u001b[0;34m(\u001b[0m\u001b[0;34m\"enter b:\"\u001b[0m\u001b[0;34m)\u001b[0m\u001b[0;34m)\u001b[0m\u001b[0;34m\u001b[0m\u001b[0;34m\u001b[0m\u001b[0m\n",
      "\u001b[0;31mUnboundLocalError\u001b[0m: local variable 'r' referenced before assignment"
     ]
    }
   ],
   "source": [
    "import math\n",
    "def solve(a,b,c):\n",
    "    d=b**2-(4*a*c)\n",
    "    if a!=0:\n",
    "        if d ==0:\n",
    "            b=-b/2*a\n",
    "            print(\"the solution is:\",b)\n",
    "        elif d<0:\n",
    "            print(\"l'equation n'a pas de soution\")\n",
    "        elif d>0:\n",
    "            m=(-b+math.sqrt(a))/(2*a)\n",
    "            n=(-b-math.sqrt(a))/(2*a)\n",
    "            print(\"les deux  solutions sont:\", m,n)\n",
    "    else:\n",
    "        r=(-c)/b\n",
    "        print (\"the solution is:\",r)\n",
    "    return(b,m,n,r)\n",
    "a=int (input(\"enter a:\"))\n",
    "b=int (input (\"enter b:\"))\n",
    "c=int (input (\"enter c:\"))\n",
    "solve(a,b,c)\n",
    "\n",
    "\n",
    "\n"
   ]
  },
  {
   "cell_type": "markdown",
   "metadata": {},
   "source": [
    "### Exercise 7:\n",
    "\n",
    "- Monte Carlo methods are a broad class of computational algorithms that rely on repeated random sampling to obtain numerical results. \n",
    "- One of the basic examples of getting started with the Monte Carlo algorithm is the estimation of Pi.\n",
    "\n",
    "## Estimation of Pi\n",
    "- The idea is to simulate random (x, y) points in a 2-D plane with domain as a square of side 1 unit. \n",
    "- Imagine a circle inside the same domain with same diameter and inscribed into the square. \n",
    "- We then calculate the ratio of number points that lied inside the circle and total number of generated points. \n",
    "- Refer to the image below:\n",
    "\n",
    "![demo](figures/MonteCarloPlot.png)\n",
    "\n",
    "\n",
    "\n",
    "## The Algorithm\n",
    "\n",
    "1. Initialize circle_points, square_points and interval to 0.\n",
    "2. Generate random point x.\n",
    "3. Generate random point y.\n",
    "4. Calculate d = x*x + y*y.\n",
    "5. If d <= 1, increment circle_points.\n",
    "6. Increment square_points.\n",
    "7. Increment interval.\n",
    "8. If increment < NO_OF_ITERATIONS, repeat from 2.\n",
    "9. Calculate pi = 4*(circle_points/square_points).\n",
    "10. Terminate.\n",
    "\n"
   ]
  },
  {
   "cell_type": "code",
   "execution_count": null,
   "metadata": {},
   "outputs": [],
   "source": [
    "# Your code here"
   ]
  }
 ],
 "metadata": {
  "kernelspec": {
   "display_name": "Python 3 (ipykernel)",
   "language": "python",
   "name": "python3"
  },
  "language_info": {
   "codemirror_mode": {
    "name": "ipython",
    "version": 3
   },
   "file_extension": ".py",
   "mimetype": "text/x-python",
   "name": "python",
   "nbconvert_exporter": "python",
   "pygments_lexer": "ipython3",
   "version": "3.10.6"
  }
 },
 "nbformat": 4,
 "nbformat_minor": 4
}

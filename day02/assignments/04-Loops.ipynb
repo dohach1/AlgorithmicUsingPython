{
 "cells": [
  {
   "cell_type": "markdown",
   "id": "08d7d2f3",
   "metadata": {},
   "source": [
    "## Loops\n",
    "### 1. Suppose that l=[1,10,11,16,3,5,16,25,23]"
   ]
  },
  {
   "cell_type": "markdown",
   "id": "50142989",
   "metadata": {},
   "source": [
    "### Exercise 1: \n",
    "\n",
    "#### Print the values and indices of the list.\n",
    "\n",
    "- Output:\n",
    "```python\n",
    "0 1\n",
    "1 10\n",
    "2 11\n",
    "3 16\n",
    "4 3\n",
    "5 5\n",
    "6 16\n",
    "7 25\n",
    "8 23\n",
    "```"
   ]
  },
  {
   "cell_type": "code",
   "execution_count": 5,
   "id": "c9fbbe45",
   "metadata": {},
   "outputs": [
    {
     "name": "stdout",
     "output_type": "stream",
     "text": [
      "0 1\n",
      "1 10\n",
      "2 11\n",
      "3 16\n",
      "4 3\n",
      "5 5\n",
      "6 16\n",
      "7 25\n",
      "8 23\n"
     ]
    }
   ],
   "source": [
    "test_list = [1,10,11,16,3,5,16,25,23]\n",
    "for i in range(len(test_list)):\n",
    "    print(i, end=\" \")\n",
    "    print(test_list[i])"
   ]
  },
  {
   "cell_type": "markdown",
   "id": "7fef3471",
   "metadata": {},
   "source": [
    "### Exercise 2: \n",
    "\n",
    "#### Print the odd numbers of the list.\n",
    "\n",
    "- Output\n",
    "```python\n",
    "1\n",
    "11\n",
    "3\n",
    "5\n",
    "25\n",
    "23\n",
    "```"
   ]
  },
  {
   "cell_type": "code",
   "execution_count": 8,
   "id": "20be687a",
   "metadata": {},
   "outputs": [
    {
     "name": "stdout",
     "output_type": "stream",
     "text": [
      "1 11 3 5 25 23 "
     ]
    }
   ],
   "source": [
    "l=[1,10,11,16,3,5,16,25,23]\n",
    "for num in l:\n",
    "    if num % 2 != 0:\n",
    "        print(num, end=\" \")"
   ]
  },
  {
   "cell_type": "markdown",
   "id": "39898e47",
   "metadata": {},
   "source": [
    "### Exersise 3: \n",
    "\n",
    "#### Compute the sum of the list.\n",
    "\n",
    "- Output\n",
    "```python\n",
    "s = 110\n",
    "```"
   ]
  },
  {
   "cell_type": "code",
   "execution_count": 10,
   "id": "ed38f5b6",
   "metadata": {},
   "outputs": [
    {
     "name": "stdout",
     "output_type": "stream",
     "text": [
      "Sum of all elements in given list:  110\n"
     ]
    }
   ],
   "source": [
    "total = 0\n",
    "list1 = [1,10,11,16,3,5,16,25,23]\n",
    "for ele in range(0, len(list1)):\n",
    "    total = total + list1[ele]\n",
    "print(\"Sum of all elements in given list: \", total)"
   ]
  },
  {
   "cell_type": "markdown",
   "id": "b8993ae7",
   "metadata": {},
   "source": [
    "### Exercise 4: \n",
    "\n",
    "#### Calculate the cube of all numbers of the list.\n",
    "\n",
    "- Output\n",
    "```python\n",
    "1\n",
    "100\n",
    "121\n",
    "256\n",
    "9\n",
    "25\n",
    "256\n",
    "625\n",
    "529\n",
    "```"
   ]
  },
  {
   "cell_type": "code",
   "execution_count": 14,
   "id": "6c2c7e1a",
   "metadata": {},
   "outputs": [
    {
     "name": "stdout",
     "output_type": "stream",
     "text": [
      "[1, 100, 121, 256, 9, 25, 256, 625, 529]\n"
     ]
    }
   ],
   "source": [
    "l= [1,10,11,16,3,5,16,25,23]\n",
    "res = []\n",
    "for i in l:\n",
    "    res.append(i*i)\n",
    "print(res)"
   ]
  },
  {
   "cell_type": "markdown",
   "id": "34801abd",
   "metadata": {},
   "source": [
    "### Exercise 5: \n",
    "\n",
    "#### Calculate the cube of all numbers of the list.\n",
    "\n",
    "- Output\n",
    "```python\n",
    "1\n",
    "100\n",
    "121\n",
    "256\n",
    "9\n",
    "25\n",
    "256\n",
    "625\n",
    "529\n",
    "```"
   ]
  },
  {
   "cell_type": "code",
   "execution_count": 15,
   "id": "f736ec5f",
   "metadata": {},
   "outputs": [
    {
     "name": "stdout",
     "output_type": "stream",
     "text": [
      "[1, 100, 121, 256, 9, 25, 256, 625, 529]\n"
     ]
    }
   ],
   "source": [
    "l= [1,10,11,16,3,5,16,25,23]\n",
    "res = []\n",
    "for i in l:\n",
    "    res.append(i*i)\n",
    "print(res)"
   ]
  },
  {
   "cell_type": "markdown",
   "id": "5e26799a",
   "metadata": {},
   "source": [
    "### Exercise 6: \n",
    "\n",
    "#### Calculate the cube of all numbers of the list.\n",
    "\n",
    "- Output\n",
    "```python\n",
    "1\n",
    "100\n",
    "121\n",
    "256\n",
    "9\n",
    "25\n",
    "256\n",
    "625\n",
    "529\n",
    "```"
   ]
  },
  {
   "cell_type": "code",
   "execution_count": 17,
   "id": "123ba1f0",
   "metadata": {},
   "outputs": [
    {
     "name": "stdout",
     "output_type": "stream",
     "text": [
      "[1, 100, 121, 256, 9, 25, 256, 625, 529]\n"
     ]
    }
   ],
   "source": [
    "l= [1,10,11,16,3,5,16,25,23]\n",
    "res = []\n",
    "for i in l:\n",
    "    res.append(i*i)\n",
    "print(res)"
   ]
  },
  {
   "cell_type": "markdown",
   "id": "3253ffde",
   "metadata": {},
   "source": [
    "### Exercise 7: \n",
    "\n",
    "#### Calculate the cube of all numbers of the list.\n",
    "\n",
    "- Output\n",
    "```python\n",
    "1\n",
    "100\n",
    "121\n",
    "256\n",
    "9\n",
    "25\n",
    "256\n",
    "625\n",
    "529\n",
    "```"
   ]
  },
  {
   "cell_type": "code",
   "execution_count": 16,
   "id": "34a6946a",
   "metadata": {},
   "outputs": [
    {
     "name": "stdout",
     "output_type": "stream",
     "text": [
      "[1, 100, 121, 256, 9, 25, 256, 625, 529]\n"
     ]
    }
   ],
   "source": [
    "l= [1,10,11,16,3,5,16,25,23]\n",
    "res = []\n",
    "for i in l:\n",
    "    res.append(i*i)\n",
    "print(res)"
   ]
  },
  {
   "cell_type": "markdown",
   "id": "e1084b1a",
   "metadata": {},
   "source": [
    "### 2. Suppose that M=[[1,3,5], [9,13,4], [8,4,1], [10,31,15]]\n",
    "### Exercise 1: \n",
    "\n",
    "#### Print the indices and values of the list.\n",
    "\n",
    "- Output\n",
    "```python\n",
    "0 0 1\n",
    "0 1 3\n",
    "0 2 5\n",
    "1 0 9\n",
    "1 1 13\n",
    "1 2 4\n",
    "2 0 8\n",
    "2 1 4\n",
    "2 2 1\n",
    "3 0 10\n",
    "3 1 31\n",
    "3 2 15\n",
    "```"
   ]
  },
  {
   "cell_type": "code",
   "execution_count": 19,
   "id": "53a40957",
   "metadata": {},
   "outputs": [
    {
     "name": "stdout",
     "output_type": "stream",
     "text": [
      "0 1\n",
      "1 10\n",
      "2 11\n",
      "3 16\n",
      "4 3\n",
      "5 5\n",
      "6 16\n",
      "7 25\n",
      "8 23\n"
     ]
    }
   ],
   "source": [
    "M=[[1,3,5], [9,13,4], [8,4,1], [10,31,15]]\n",
    "for i in range(len(test_list)):\n",
    "    print(i, end=\" \")\n",
    "    print(test_list[i])"
   ]
  },
  {
   "cell_type": "markdown",
   "id": "df75c7ad",
   "metadata": {},
   "source": [
    "### Exercise 2: \n",
    "\n",
    "#### Print the even numbers of the list.\n",
    "\n",
    "- Output\n",
    "```python\n",
    "4\n",
    "8\n",
    "4\n",
    "10\n",
    "```"
   ]
  },
  {
   "cell_type": "code",
   "execution_count": 26,
   "id": "189a1229",
   "metadata": {},
   "outputs": [],
   "source": [
    "list1=[[1,3,5], [9,13,4], [8,4,1], [10,31,15]]\n",
    "l1=[1,3,5]\n",
    "l2=[9,13,4]\n",
    "l3=[8,4,1]\n",
    "l4=[10,31,15]\n",
    "for num in l1:\n",
    "    if num % 2 == 0:\n",
    "        print(num, end=\" \")\n",
    "for num in l2:\n",
    "    if num % 2 == 0:\n",
    "        print(num, end=\" \")\n",
    "for num in l3:\n",
    "    if num % 2 == 0:\n",
    "        print(num, end=\" \")\n",
    "for num in l4:\n",
    "    if num % 2 == 0:\n",
    "        print(num, end=\" \")\n",
    "        "
   ]
  },
  {
   "cell_type": "markdown",
   "id": "4ec3ef5d",
   "metadata": {},
   "source": [
    "### Exercise 3: \n",
    "\n",
    "#### Compute the sum of odd numbers.\n",
    "\n",
    "- Output\n",
    "```python\n",
    "s = 78\n",
    "```"
   ]
  },
  {
   "cell_type": "code",
   "execution_count": 20,
   "id": "66620729",
   "metadata": {},
   "outputs": [],
   "source": []
  }
 ],
 "metadata": {
  "kernelspec": {
   "display_name": "Python 3 (ipykernel)",
   "language": "python",
   "name": "python3"
  },
  "language_info": {
   "codemirror_mode": {
    "name": "ipython",
    "version": 3
   },
   "file_extension": ".py",
   "mimetype": "text/x-python",
   "name": "python",
   "nbconvert_exporter": "python",
   "pygments_lexer": "ipython3",
   "version": "3.10.6"
  }
 },
 "nbformat": 4,
 "nbformat_minor": 5
}
